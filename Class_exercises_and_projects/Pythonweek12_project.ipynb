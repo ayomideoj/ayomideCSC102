{
 "cells": [
  {
   "cell_type": "code",
   "execution_count": 6,
   "id": "ddbccf4e",
   "metadata": {},
   "outputs": [
    {
     "name": "stdout",
     "output_type": "stream",
     "text": [
      "Welcome, Please enter your name:  Ryan\n",
      "Unauthorized access\n"
     ]
    }
   ],
   "source": [
    "#Project 1\n",
    "employee_list =(\"kevin\", \"kasi\",\"mendy\", \"lemao\", \"risha\", \"lela\",\"ronny\", \"ken\", \"kendra\", \"kiki\",\"mayo\", \"ayo\" ,\"mickey\", \"goofy\",\"kumara\")\n",
    "\n",
    "employed= False\n",
    "name = input(\"Welcome, Please enter your name: \")\n",
    "for x in employee_list:\n",
    "    if x == name:\n",
    "        employed= True\n",
    "if employed:\n",
    "        print(\"Welcome\",name)\n",
    "else:\n",
    "    print(\"Unauthorized access\")\n",
    "    "
   ]
  },
  {
   "cell_type": "code",
   "execution_count": 13,
   "id": "9e291239",
   "metadata": {},
   "outputs": [
    {
     "name": "stdout",
     "output_type": "stream",
     "text": [
      "Please enter your location:lekki\n",
      "Please enter size of your package:10\n",
      "We do not deliver to this location\n"
     ]
    }
   ],
   "source": [
    "# Project 2\n",
    "location = input(\"Please enter your location:\")\n",
    "size_of_package = int(input(\"Please enter size of your package:\"))\n",
    "if location == \"Pan Atlantic University\" and size_of_package >= 10:\n",
    "    print(\"Your fee is 2000\")\n",
    "elif location == \"Pan Atlantic University\" and size_of_package < 10:\n",
    "    print(\"Your fee is 1500\")\n",
    "    \n",
    "if location == \"Epe\" and size_of_package >= 10:\n",
    "    print(\"Your fee is 5000\")\n",
    "elif location == \"Epe\" and size_of_package < 10:\n",
    "    print(\"Your fee is 4000\")\n",
    "else:\n",
    "    print(\"We do not deliver to this location\")\n",
    "    \n",
    "\n",
    "    \n"
   ]
  },
  {
   "cell_type": "code",
   "execution_count": null,
   "id": "5e8f7f27",
   "metadata": {},
   "outputs": [],
   "source": []
  },
  {
   "cell_type": "code",
   "execution_count": 21,
   "id": "acc68ed6",
   "metadata": {},
   "outputs": [
    {
     "name": "stdout",
     "output_type": "stream",
     "text": [
      "Please enter your jamb score233\n",
      "Please enter the amount of credits you scored5\n",
      "Congratulations you qualify to apply and be interviewed\n"
     ]
    }
   ],
   "source": [
    "#Project 3\n",
    "Score = int(input(\"Please enter your jamb score\"))\n",
    "Amount_of_credits_in_crucial_subjects= int(input(\"Please enter the amount of credits you scored\"))\n",
    "\n",
    "if Score>= 230 and Amount_of_credits_in_crucial_subjects >=5:\n",
    "    print(\"Congratulations you qualify to apply and be interviewed\")\n",
    "\n",
    "else:\n",
    "    print(\"Sorry but we have to decline your application\")"
   ]
  },
  {
   "cell_type": "code",
   "execution_count": 30,
   "id": "f231a01f",
   "metadata": {},
   "outputs": [
    {
     "name": "stdout",
     "output_type": "stream",
     "text": [
      "Kindly enter your locationLagos\n",
      "You do not belong to a state being ravaged by bokoharam\n"
     ]
    }
   ],
   "source": [
    "#Project 4(Individuals in need of finanical support from the government)\n",
    "Location =input(\"Kindly enter your location\")\n",
    "\n",
    "if location == \"Kano\":\n",
    "    print(\"Finanical support will be given to you due to your current condition\")\n",
    "else:\n",
    "    print(\"You do not belong to a state being ravaged by bokoharam\")\n",
    "    "
   ]
  },
  {
   "cell_type": "code",
   "execution_count": 1,
   "id": "72b65cd8",
   "metadata": {},
   "outputs": [],
   "source": []
  },
  {
   "cell_type": "code",
   "execution_count": null,
   "id": "f4e3e634",
   "metadata": {},
   "outputs": [],
   "source": []
  }
 ],
 "metadata": {
  "kernelspec": {
   "display_name": "Python 3 (ipykernel)",
   "language": "python",
   "name": "python3"
  },
  "language_info": {
   "codemirror_mode": {
    "name": "ipython",
    "version": 3
   },
   "file_extension": ".py",
   "mimetype": "text/x-python",
   "name": "python",
   "nbconvert_exporter": "python",
   "pygments_lexer": "ipython3",
   "version": "3.9.7"
  }
 },
 "nbformat": 4,
 "nbformat_minor": 5
}
