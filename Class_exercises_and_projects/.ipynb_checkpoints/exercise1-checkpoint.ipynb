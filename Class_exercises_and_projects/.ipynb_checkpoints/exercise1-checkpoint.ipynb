{
 "cells": [
  {
   "cell_type": "code",
   "execution_count": 2,
   "id": "402283e4",
   "metadata": {},
   "outputs": [
    {
     "name": "stdout",
     "output_type": "stream",
     "text": [
      "100\n",
      "Data type of variable num is <class 'int'>\n",
      "34.45\n",
      "Data type variable fnum is <class 'float'>\n",
      "(3+4j)\n",
      "Data type variable cnum is <class 'complex'>\n"
     ]
    }
   ],
   "source": [
    "\n",
    "# Integer number\n",
    "num = 100\n",
    "print(num)\n",
    "print(\"Data type of variable num is\",type(num))\n",
    "\n",
    "#float number\n",
    "fnum = 34.45\n",
    "print(fnum)\n",
    "print(\"Data type variable fnum is\",type(fnum))\n",
    "\n",
    "#complex number\n",
    "cnum = 3 + 4j\n",
    "print(cnum)\n",
    "print(\"Data type variable cnum is\", type(cnum))"
   ]
  },
  {
   "cell_type": "code",
   "execution_count": 3,
   "id": "54bf8840",
   "metadata": {},
   "outputs": [
    {
     "name": "stdout",
     "output_type": "stream",
     "text": [
      "Hi my name is Matthew. I am String\n",
      "<class 'str'>\n",
      "Hi my name is OJ. I am also a String\n",
      "<class 'str'>\n"
     ]
    }
   ],
   "source": [
    "#python program to print strings and type\n",
    "str1 = \"Hi my name is Matthew. I am String\"\n",
    "str2 = \"Hi my name is OJ. I am also a String\"\n",
    "\n",
    "print(str1)\n",
    "print(type(str1))\n",
    "\n",
    "print(str2)\n",
    "print(type(str2))\n"
   ]
  },
  {
   "cell_type": "code",
   "execution_count": 4,
   "id": "11ff8de4",
   "metadata": {},
   "outputs": [
    {
     "name": "stdout",
     "output_type": "stream",
     "text": [
      "(1, 2, 3, 4, 5)\n",
      "Nifemi\n",
      "Gina\n",
      "Marho\n",
      "45\n"
     ]
    }
   ],
   "source": [
    "# tuple of integers\n",
    "t1 = (1,2,3,4,5)\n",
    "print(t1)\n",
    "\n",
    "#tuple of strings\n",
    "t2 = (\"Nifemi\",\"Gina\",\"Marho\")\n",
    "\n",
    "for s in t2:\n",
    "    print(s)\n",
    "\n",
    "#tuple of mixed type elements\n",
    "t3 =(2,\"Ebube\",45,\"Jeffery\")\n",
    "\n",
    "'''\n",
    "Print a specific element\n",
    "indexes start with zero\n",
    "'''\n",
    "print(t3[2])\n"
   ]
  },
  {
   "cell_type": "code",
   "execution_count": 5,
   "id": "3a10f00d",
   "metadata": {},
   "outputs": [
    {
     "name": "stdout",
     "output_type": "stream",
     "text": [
      "[1, 2, 3, 4, 5]\n",
      "Mouse\n",
      "Keyboard\n",
      "Monitor\n",
      "Element at index 3 is: Python Programming\n"
     ]
    }
   ],
   "source": [
    "#list of integers\n",
    "lis1 =[1,2,3,4,5]\n",
    "print(lis1)\n",
    "\n",
    "#list of strings\n",
    "lis2 =[\"Mouse\",\"Keyboard\",\"Monitor\"]\n",
    "\n",
    "#loop through list elements\n",
    "for x in lis2:\n",
    "    print(x)\n",
    "\n",
    "#list of mixed type elements\n",
    "lis3 =[20,\"CSC102\",39,\"Python Programming\"]\n",
    "'''Print a specific element in list indexes start with zero'''\n",
    "\n",
    "print(\"Element at index 3 is:\",lis3[3])\n"
   ]
  },
  {
   "cell_type": "code",
   "execution_count": 6,
   "id": "0ce58ea7",
   "metadata": {},
   "outputs": [
    {
     "name": "stdout",
     "output_type": "stream",
     "text": [
      "Maryam\n",
      "Shefiu\n",
      "25\n"
     ]
    }
   ],
   "source": [
    "#Dictionary example\n",
    "dict ={1:\"Maryam\",\"lastname\":\"Shefiu\",\"age\":25}\n",
    "\n",
    "print(dict[1])\n",
    "print(dict[\"lastname\"])\n",
    "print(dict[\"age\"])\n"
   ]
  },
  {
   "cell_type": "code",
   "execution_count": 7,
   "id": "43c4b6d3",
   "metadata": {},
   "outputs": [
    {
     "name": "stdout",
     "output_type": "stream",
     "text": [
      "Adaobi\n",
      "Ugochi\n",
      "Joseph\n",
      "Kamara\n",
      "False\n",
      "{99, 'Ugochi', 'Joseph', 'Kamara', 'Adaobi'}\n"
     ]
    }
   ],
   "source": [
    "# Set Example\n",
    "myset ={\"Joseph\", \"Adaobi\", \"Kamara\",\"Ugochi\"}\n",
    "#loop through set\n",
    "for a in myset:\n",
    "    print(a)\n",
    "\n",
    "#checking whether 2 exists in myset\n",
    "print(2 in myset)\n",
    "\n",
    "#adding new element\n",
    "myset.add(99)\n",
    "\n",
    "print(myset)\n"
   ]
  },
  {
   "cell_type": "code",
   "execution_count": 8,
   "id": "64e92a17",
   "metadata": {},
   "outputs": [
    {
     "name": "stdout",
     "output_type": "stream",
     "text": [
      "Amount is 1020.0\n",
      "Simple Interest is 20.0\n"
     ]
    }
   ],
   "source": [
    "#Simple Interest Problems\n",
    "P=1000\n",
    "R=1\n",
    "T=2\n",
    "\n",
    "A= (P*(1 + ((R / 100) * T)))\n",
    "print(\"Amount is\", A)\n",
    "SI = A-P\n",
    "print(\"Simple Interest is\", SI)\n"
   ]
  },
  {
   "cell_type": "code",
   "execution_count": 9,
   "id": "5432c187",
   "metadata": {},
   "outputs": [
    {
     "name": "stdout",
     "output_type": "stream",
     "text": [
      "The solutions are (-3+0j) (-2+0j)\n"
     ]
    }
   ],
   "source": [
    "#Solving Quadratic Equations\n",
    "import cmath\n",
    "\n",
    "a=1\n",
    "b=5\n",
    "c=6\n",
    "\n",
    "#calculate the discriminant\n",
    "d = (b**2)-(4*a*c)\n",
    "\n",
    "sol1=(-b-cmath.sqrt(d))/(2*a)\n",
    "sol2=(-b+cmath.sqrt(d))/(2*a)\n",
    "\n",
    "print('The solutions are', sol1,sol2)\n"
   ]
  },
  {
   "cell_type": "code",
   "execution_count": 10,
   "id": "43c5bca0",
   "metadata": {},
   "outputs": [
    {
     "name": "stdout",
     "output_type": "stream",
     "text": [
      "Enter first side: 5\n",
      "Enter second side: 6\n",
      "Enter third side: 7\n",
      "The area of the traingle is 14.70\n"
     ]
    }
   ],
   "source": [
    "# Python program to find the area of a traingle\n",
    "a = float(input('Enter first side: '))\n",
    "b = float(input('Enter second side: '))\n",
    "c = float(input('Enter third side: '))\n",
    "\n",
    "#calculate the semi-perimeter\n",
    "s = (a+b+c)/2\n",
    "\n",
    "#calculate the area\n",
    "area = (s*(s-a)*(s-b)*(s-c))**0.5\n",
    "print('The area of the traingle is %0.2f' %area)\n"
   ]
  },
  {
   "cell_type": "code",
   "execution_count": null,
   "id": "58cb561c",
   "metadata": {},
   "outputs": [],
   "source": []
  }
 ],
 "metadata": {
  "kernelspec": {
   "display_name": "Python 3 (ipykernel)",
   "language": "python",
   "name": "python3"
  },
  "language_info": {
   "codemirror_mode": {
    "name": "ipython",
    "version": 3
   },
   "file_extension": ".py",
   "mimetype": "text/x-python",
   "name": "python",
   "nbconvert_exporter": "python",
   "pygments_lexer": "ipython3",
   "version": "3.9.7"
  }
 },
 "nbformat": 4,
 "nbformat_minor": 5
}
