{
 "cells": [
  {
   "cell_type": "code",
   "execution_count": 5,
   "id": "683ac66d",
   "metadata": {},
   "outputs": [
    {
     "name": "stdout",
     "output_type": "stream",
     "text": [
      "enter the radius:9\n",
      "56.548667764616276\n"
     ]
    }
   ],
   "source": [
    "import cmath\n",
    "def circumference():\n",
    "    rad = int(input(\"enter the radius:\"))\n",
    "    print(2*cmath.pi*rad)\n",
    "circumference()\n"
   ]
  },
  {
   "cell_type": "code",
   "execution_count": 9,
   "id": "7be5d702",
   "metadata": {},
   "outputs": [
    {
     "name": "stdout",
     "output_type": "stream",
     "text": [
      "enter the value for a:2\n",
      "enter the value for b:3\n",
      "enter the value for c:4\n",
      "The roots of the equation are (-3+5.5677643628300215j) and (-3-5.5677643628300215j)\n"
     ]
    }
   ],
   "source": [
    "#Guided Project 1\n",
    "def quadratic():\n",
    "    a = int(input(\"enter the value for a:\"))\n",
    "    b = int(input(\"enter the value for b:\"))\n",
    "    c = int(input(\"enter the value for c:\"))\n",
    "    d = cmath.sqrt(b^2-4*a*c)\n",
    "    x1 =(-b+d)/2*a\n",
    "    x2 =(-b-d)/2*a\n",
    "    print(\"The roots of the equation are\", x1, \"and\", x2)\n",
    "quadratic()\n",
    "    "
   ]
  },
  {
   "cell_type": "code",
   "execution_count": 14,
   "id": "734b0c63",
   "metadata": {},
   "outputs": [
    {
     "name": "stdout",
     "output_type": "stream",
     "text": [
      "ENTER NAME : chloe\n",
      "chloe absent\n"
     ]
    }
   ],
   "source": [
    "#Guided Project 2\n",
    "students = [\"John\", \"R.Kelly\", \"Jason\", \"Saun\", \"Mia\", \"Monroe\", \"Tunde\", \"Oxlade\", \"Mohammed\", \"Misa\"]\n",
    "def check() :\n",
    "    name = str.lower(input(\"ENTER NAME : \"))\n",
    "    if name in students :\n",
    "        print(name,\"present\")\n",
    "    else:\n",
    "        print(name,\"absent\")\n",
    "check()"
   ]
  },
  {
   "cell_type": "code",
   "execution_count": 21,
   "id": "5b576e8a",
   "metadata": {},
   "outputs": [
    {
     "name": "stdout",
     "output_type": "stream",
     "text": [
      "Enter name:Jason\n",
      "Students score is 7.5\n"
     ]
    }
   ],
   "source": [
    "#Guided Project 3\n",
    "students = {\"John\":10,\"R.Kelly\":6,\"Jason\":7.5, \"Saun\":9,\"Mia\":13, \"Monroe\":3, \"Tunde\":1, \"Oxlade\":10, \"Mohammed\":15, \"Misa\":19,\"Kiki\":18,\"Eren\":20,\"Mikasa\":13,\"Giroud\":17.5,\"Corona\":16}\n",
    "def score():\n",
    "    name = input(\"Enter name:\" )\n",
    "    if name in students:\n",
    "        print(\"Students score is\", students[name])\n",
    "    else:\n",
    "        print(\"Student did not sit for this exam\")\n",
    "score()\n"
   ]
  },
  {
   "cell_type": "code",
   "execution_count": 25,
   "id": "91f01c47",
   "metadata": {},
   "outputs": [
    {
     "name": "stdout",
     "output_type": "stream",
     "text": [
      "Input password:VAr\n",
      "Password incorrect, Try again\n",
      "Input password:bunda\n",
      "Password incorrect, Try again\n",
      "Input password:opp\n",
      "Password incorrect, Try again\n",
      "Input password:variable\n",
      "Access granted\n"
     ]
    }
   ],
   "source": [
    "#Guided Project 4\n",
    "password = \"variable\"\n",
    "def test():\n",
    "    boo = False\n",
    "    while boo == False:\n",
    "        word = input(\"Input password:\")\n",
    "        if word == password:\n",
    "            print(\"Access granted\")\n",
    "            break\n",
    "        else:\n",
    "            print(\"Password incorrect, Try again\")\n",
    "test()"
   ]
  },
  {
   "cell_type": "code",
   "execution_count": null,
   "id": "8209e1ee",
   "metadata": {},
   "outputs": [],
   "source": []
  }
 ],
 "metadata": {
  "kernelspec": {
   "display_name": "Python 3 (ipykernel)",
   "language": "python",
   "name": "python3"
  },
  "language_info": {
   "codemirror_mode": {
    "name": "ipython",
    "version": 3
   },
   "file_extension": ".py",
   "mimetype": "text/x-python",
   "name": "python",
   "nbconvert_exporter": "python",
   "pygments_lexer": "ipython3",
   "version": "3.9.7"
  }
 },
 "nbformat": 4,
 "nbformat_minor": 5
}
