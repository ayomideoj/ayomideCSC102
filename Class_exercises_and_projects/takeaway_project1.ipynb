{
 "cells": [
  {
   "cell_type": "code",
   "execution_count": 1,
   "id": "d478a615",
   "metadata": {},
   "outputs": [
    {
     "name": "stdout",
     "output_type": "stream",
     "text": [
      "Enter the name of the boyJohnny\n",
      "What is the age of the Johnny23\n",
      "Enter the name of the girlLana \n",
      "What is the age of the Lana 19\n",
      "Age of Johnny is 23\n",
      "Age of Lana  is 19\n",
      "If we swap the ages:\n",
      "Age of Johnny is 19\n",
      "Age of Lana  is 23\n"
     ]
    }
   ],
   "source": [
    "#Swapping ages\n",
    "\n",
    "boy = input(\"Enter the name of the boy\")\n",
    "boy_age = input(\"What is the age of the \"+boy+\"\")\n",
    "girl = input(\"Enter the name of the girl\")\n",
    "girl_age = input(\"What is the age of the \"+girl+\"\")\n",
    "print(\"Age of \"+boy+\" is \"+boy_age+\"\")\n",
    "print(\"Age of \"+girl+\" is \"+girl_age+\"\")\n",
    "print(\"If we swap the ages:\")\n",
    "print(\"Age of \"+boy+\" is\", girl_age)\n",
    "print(\"Age of \"+girl+\" is\", boy_age)"
   ]
  },
  {
   "cell_type": "code",
   "execution_count": null,
   "id": "33570f3d",
   "metadata": {},
   "outputs": [],
   "source": []
  },
  {
   "cell_type": "code",
   "execution_count": null,
   "id": "813c31cf",
   "metadata": {},
   "outputs": [],
   "source": []
  }
 ],
 "metadata": {
  "kernelspec": {
   "display_name": "Python 3 (ipykernel)",
   "language": "python",
   "name": "python3"
  },
  "language_info": {
   "codemirror_mode": {
    "name": "ipython",
    "version": 3
   },
   "file_extension": ".py",
   "mimetype": "text/x-python",
   "name": "python",
   "nbconvert_exporter": "python",
   "pygments_lexer": "ipython3",
   "version": "3.9.7"
  }
 },
 "nbformat": 4,
 "nbformat_minor": 5
}
