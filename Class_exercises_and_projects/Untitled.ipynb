{
 "cells": [
  {
   "cell_type": "code",
   "execution_count": 10,
   "id": "722a1881",
   "metadata": {},
   "outputs": [
    {
     "name": "stdout",
     "output_type": "stream",
     "text": [
      "leave\n"
     ]
    }
   ],
   "source": [
    "employee_list =[\"kevin\", \"kasi\",\"mendy\", \"lemao\", \"risha\", \"lela\",\"ronny\", \"ken\", \"kendra\", \"kiki\",\"mayo\", \"ayo\" ,\"mickey\", \"goofy\",\"kumara\"]\n",
    "def checkName(name):\n",
    "    if name in employee_list:\n",
    "        print(\"Welcome\")\n",
    "    else:\n",
    "        print(\"leave\")\n",
    "checkName(\"Kiki\")"
   ]
  },
  {
   "cell_type": "code",
   "execution_count": null,
   "id": "def0dc7f",
   "metadata": {},
   "outputs": [],
   "source": []
  }
 ],
 "metadata": {
  "kernelspec": {
   "display_name": "Python 3 (ipykernel)",
   "language": "python",
   "name": "python3"
  },
  "language_info": {
   "codemirror_mode": {
    "name": "ipython",
    "version": 3
   },
   "file_extension": ".py",
   "mimetype": "text/x-python",
   "name": "python",
   "nbconvert_exporter": "python",
   "pygments_lexer": "ipython3",
   "version": "3.9.7"
  }
 },
 "nbformat": 4,
 "nbformat_minor": 5
}
