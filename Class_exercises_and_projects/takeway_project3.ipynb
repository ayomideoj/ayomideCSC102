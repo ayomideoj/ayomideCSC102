{
 "cells": [
  {
   "cell_type": "code",
   "execution_count": 1,
   "id": "d80b9f4c",
   "metadata": {},
   "outputs": [
    {
     "name": "stdout",
     "output_type": "stream",
     "text": [
      "Amount is 172337.40234375\n",
      "Compund Interest is 170337.40234375\n"
     ]
    }
   ],
   "source": [
    "#compound project\n",
    "\n",
    "P = 2000\n",
    "R = 4.5\n",
    "t = 3\n",
    "n = 6\n",
    "\n",
    "A = (P*(1+(R/n))**n*t)\n",
    "print(\"Amount is\",A)\n",
    "\n",
    "CI = A-P\n",
    "print(\"Compund Interest is\",CI)\n",
    "\n"
   ]
  },
  {
   "cell_type": "code",
   "execution_count": 2,
   "id": "ca564c1a",
   "metadata": {},
   "outputs": [
    {
     "name": "stdout",
     "output_type": "stream",
     "text": [
      "Amount is 366656.25\n"
     ]
    }
   ],
   "source": [
    "#Annuity Plan\n",
    "PMT = 3000\n",
    "R = 5\n",
    "t = 6\n",
    "n = 4\n",
    "\n",
    "A =PMT*(((1+(R/n))**n*t)-1)/(R/n)\n",
    "print(\"Amount is\",A)\n"
   ]
  },
  {
   "cell_type": "code",
   "execution_count": null,
   "id": "4436d69d",
   "metadata": {},
   "outputs": [],
   "source": []
  }
 ],
 "metadata": {
  "kernelspec": {
   "display_name": "Python 3 (ipykernel)",
   "language": "python",
   "name": "python3"
  },
  "language_info": {
   "codemirror_mode": {
    "name": "ipython",
    "version": 3
   },
   "file_extension": ".py",
   "mimetype": "text/x-python",
   "name": "python",
   "nbconvert_exporter": "python",
   "pygments_lexer": "ipython3",
   "version": "3.9.7"
  }
 },
 "nbformat": 4,
 "nbformat_minor": 5
}
