{
 "cells": [
  {
   "cell_type": "code",
   "execution_count": 1,
   "id": "54b583d5",
   "metadata": {},
   "outputs": [
    {
     "name": "stdout",
     "output_type": "stream",
     "text": [
      "Welcome, Please enter your name: kasi\n",
      "Welcome kasi\n"
     ]
    }
   ],
   "source": [
    "#Project 1\n",
    "employee_list =(\"kevin\", \"kasi\",\"mendy\", \"lemao\", \"risha\", \"lela\",\"ronny\", \"ken\", \"kendra\", \"kiki\",\"mayo\", \"ayo\" ,\"mickey\", \"goofy\",\"kumara\")\n",
    "\n",
    "employed= False\n",
    "name = input(\"Welcome, Please enter your name: \")\n",
    "for x in employee_list:\n",
    "    if x == name:\n",
    "        employed= True\n",
    "if employed:\n",
    "        print(\"Welcome\",name)\n",
    "else:\n",
    "    print(\"Unauthorized access\")"
   ]
  },
  {
   "cell_type": "code",
   "execution_count": 8,
   "id": "529cf6db",
   "metadata": {},
   "outputs": [
    {
     "name": "stdout",
     "output_type": "stream",
     "text": [
      "Unauthorized access\n"
     ]
    }
   ],
   "source": [
    "employee_list =[\"kevin\", \"kasi\",\"mendy\", \"lemao\", \"risha\", \"lela\",\"ronny\", \"ken\", \"kendra\", \"kiki\",\"mayo\", \"ayo\" ,\"mickey\", \"goofy\",\"kumara\"]\n",
    "def checkName(name):\n",
    "    if name in employee_list:\n",
    "        print(\"Welcome\")\n",
    "    else:\n",
    "        print(\"Unauthorized access\")\n",
    "checkName(\"Kiki\")"
   ]
  },
  {
   "cell_type": "code",
   "execution_count": null,
   "id": "6d812593",
   "metadata": {},
   "outputs": [],
   "source": []
  }
 ],
 "metadata": {
  "kernelspec": {
   "display_name": "Python 3 (ipykernel)",
   "language": "python",
   "name": "python3"
  },
  "language_info": {
   "codemirror_mode": {
    "name": "ipython",
    "version": 3
   },
   "file_extension": ".py",
   "mimetype": "text/x-python",
   "name": "python",
   "nbconvert_exporter": "python",
   "pygments_lexer": "ipython3",
   "version": "3.9.7"
  }
 },
 "nbformat": 4,
 "nbformat_minor": 5
}
